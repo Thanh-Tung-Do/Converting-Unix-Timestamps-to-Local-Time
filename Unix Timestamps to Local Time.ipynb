{
 "cells": [
  {
   "cell_type": "markdown",
   "source": [
    "# Converting Unix Timestamps to Local Time Using Latitude and Longitude with Python"
   ],
   "metadata": {
    "collapsed": false
   },
   "id": "2d1ecb190d7258e"
  },
  {
   "cell_type": "code",
   "outputs": [
    {
     "name": "stdout",
     "output_type": "stream",
     "text": [
      "Requirement already satisfied: tzfpy in /Users/ryando/opt/anaconda3/lib/python3.9/site-packages (0.15.5)\r\n"
     ]
    }
   ],
   "source": [
    "# Install the tzfpy library\n",
    "!pip install tzfpy"
   ],
   "metadata": {
    "collapsed": false,
    "ExecuteTime": {
     "end_time": "2024-10-17T14:17:25.221848Z",
     "start_time": "2024-10-17T14:17:21.750381Z"
    }
   },
   "id": "ff13ea5b94911201",
   "execution_count": 5
  },
  {
   "cell_type": "code",
   "execution_count": 2,
   "id": "initial_id",
   "metadata": {
    "collapsed": true,
    "ExecuteTime": {
     "end_time": "2024-10-17T14:15:31.538824Z",
     "start_time": "2024-10-17T14:15:31.530528Z"
    }
   },
   "outputs": [],
   "source": [
    "# Import required libraries\n",
    "from datetime import datetime\n",
    "import pytz\n",
    "from tzfpy import get_tz, get_tzs"
   ]
  },
  {
   "cell_type": "code",
   "outputs": [],
   "source": [
    "# Function to convert Unix timestamps to local time\n",
    "def convert_to_localtime(unix_time, longitude, latitude):  \n",
    "    timezone_name = get_tz(longitude, latitude)  \n",
    "    timezone = pytz.timezone(timezone_name)\n",
    "    local_time = datetime.fromtimestamp(unix_time, timezone).replace(tzinfo=None)\n",
    "    return local_time"
   ],
   "metadata": {
    "collapsed": false,
    "ExecuteTime": {
     "end_time": "2024-10-17T14:15:31.542515Z",
     "start_time": "2024-10-17T14:15:31.539616Z"
    }
   },
   "id": "eaa0ad1cb8805d5a",
   "execution_count": 3
  },
  {
   "cell_type": "code",
   "outputs": [
    {
     "name": "stdout",
     "output_type": "stream",
     "text": [
      "    unix_time  merch_long  merch_lat      local_datetime\n",
      "0  1694849200    151.2093   -33.8688 2023-09-16 17:26:40\n",
      "1  1694852800    -74.0060    40.7128 2023-09-16 04:26:40\n",
      "2  1694856400     37.7749   122.4194 2023-09-16 12:26:40\n"
     ]
    }
   ],
   "source": [
    "import pandas as pd\n",
    "\n",
    "# Sample DataFrame\n",
    "data = {\n",
    "    'unix_time': [1694849200, 1694852800, 1694856400],\n",
    "    'merch_long': [151.2093, -74.006, 37.7749],\n",
    "    'merch_lat': [-33.8688, 40.7128, 122.4194]\n",
    "}\n",
    "df_transaction = pd.DataFrame(data)\n",
    "\n",
    "# Convert Unix timestamps to local datetimes\n",
    "df_transaction['local_datetime'] = df_transaction.apply(lambda row: convert_to_localtime(row['unix_time'], row['merch_long'], row['merch_lat']), axis=1)\n",
    "print(df_transaction)"
   ],
   "metadata": {
    "collapsed": false,
    "ExecuteTime": {
     "end_time": "2024-10-17T14:15:31.685256Z",
     "start_time": "2024-10-17T14:15:31.543847Z"
    }
   },
   "id": "5412739dff944525",
   "execution_count": 4
  },
  {
   "cell_type": "markdown",
   "source": [
    "That's it! We have successfully converted Unix timestamps to local time using latitude and longitude with Python. Thank you for reading!"
   ],
   "metadata": {
    "collapsed": false
   },
   "id": "85cbb647a30b1a32"
  }
 ],
 "metadata": {
  "kernelspec": {
   "display_name": "Python 3",
   "language": "python",
   "name": "python3"
  },
  "language_info": {
   "codemirror_mode": {
    "name": "ipython",
    "version": 2
   },
   "file_extension": ".py",
   "mimetype": "text/x-python",
   "name": "python",
   "nbconvert_exporter": "python",
   "pygments_lexer": "ipython2",
   "version": "2.7.6"
  }
 },
 "nbformat": 4,
 "nbformat_minor": 5
}
